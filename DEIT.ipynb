{
  "nbformat": 4,
  "nbformat_minor": 0,
  "metadata": {
    "colab": {
      "provenance": [],
      "authorship_tag": "ABX9TyN3Kl+OXYu+rohYWHbVO499",
      "include_colab_link": true
    },
    "kernelspec": {
      "name": "python3",
      "display_name": "Python 3"
    },
    "language_info": {
      "name": "python"
    },
    "accelerator": "GPU",
    "gpuClass": "standard"
  },
  "cells": [
    {
      "cell_type": "markdown",
      "metadata": {
        "id": "view-in-github",
        "colab_type": "text"
      },
      "source": [
        "<a href=\"https://colab.research.google.com/github/CHENHUI-X/DEIT-Simple/blob/main/DEIT.ipynb\" target=\"_parent\"><img src=\"https://colab.research.google.com/assets/colab-badge.svg\" alt=\"Open In Colab\"/></a>"
      ]
    },
    {
      "cell_type": "markdown",
      "source": [
        "# Train the model "
      ],
      "metadata": {
        "id": "AzyCRKYLspuI"
      }
    },
    {
      "cell_type": "code",
      "source": [
        "import os\n",
        "if os.path.exists('./DEIT-Simple'):\n",
        "  !rm -rf ./DEIT-Simple\n",
        "\n",
        "!git clone https://github.com/CHENHUI-X/DEIT-Simple.git\n"
      ],
      "metadata": {
        "colab": {
          "base_uri": "https://localhost:8080/"
        },
        "id": "kjP1dz5ysrHP",
        "outputId": "1f42fa56-483b-457a-9e7b-76350f64ae41"
      },
      "execution_count": null,
      "outputs": [
        {
          "output_type": "stream",
          "name": "stdout",
          "text": [
            "Cloning into 'DEIT-Simple'...\n",
            "remote: Enumerating objects: 64, done.\u001b[K\n",
            "remote: Counting objects: 100% (64/64), done.\u001b[K\n",
            "remote: Compressing objects: 100% (51/51), done.\u001b[K\n",
            "remote: Total 64 (delta 30), reused 25 (delta 9), pack-reused 0\u001b[K\n",
            "Unpacking objects: 100% (64/64), done.\n"
          ]
        }
      ]
    },
    {
      "cell_type": "code",
      "source": [
        "!pip install -r ./DEIT-Simple/requirements.txt"
      ],
      "metadata": {
        "colab": {
          "base_uri": "https://localhost:8080/"
        },
        "id": "zI3uS92qtYH7",
        "outputId": "dda45184-2bf9-4f45-9ccd-4650de54305a"
      },
      "execution_count": null,
      "outputs": [
        {
          "output_type": "stream",
          "name": "stdout",
          "text": [
            "Looking in indexes: https://pypi.org/simple, https://us-python.pkg.dev/colab-wheels/public/simple/\n",
            "Collecting torch==1.7.0\n",
            "  Downloading torch-1.7.0-cp37-cp37m-manylinux1_x86_64.whl (776.7 MB)\n",
            "\u001b[K     |████████████████████████████████| 776.7 MB 4.5 kB/s \n",
            "\u001b[?25hCollecting torchvision==0.8.1\n",
            "  Downloading torchvision-0.8.1-cp37-cp37m-manylinux1_x86_64.whl (12.7 MB)\n",
            "\u001b[K     |████████████████████████████████| 12.7 MB 51.5 MB/s \n",
            "\u001b[?25hCollecting timm==0.3.2\n",
            "  Downloading timm-0.3.2-py3-none-any.whl (244 kB)\n",
            "\u001b[K     |████████████████████████████████| 244 kB 66.4 MB/s \n",
            "\u001b[?25hRequirement already satisfied: numpy in /usr/local/lib/python3.7/dist-packages (from torch==1.7.0->-r ./DEIT-Simple/requirements.txt (line 1)) (1.21.6)\n",
            "Requirement already satisfied: future in /usr/local/lib/python3.7/dist-packages (from torch==1.7.0->-r ./DEIT-Simple/requirements.txt (line 1)) (0.16.0)\n",
            "Requirement already satisfied: typing-extensions in /usr/local/lib/python3.7/dist-packages (from torch==1.7.0->-r ./DEIT-Simple/requirements.txt (line 1)) (4.1.1)\n",
            "Collecting dataclasses\n",
            "  Downloading dataclasses-0.6-py3-none-any.whl (14 kB)\n",
            "Requirement already satisfied: pillow>=4.1.1 in /usr/local/lib/python3.7/dist-packages (from torchvision==0.8.1->-r ./DEIT-Simple/requirements.txt (line 2)) (7.1.2)\n",
            "Installing collected packages: dataclasses, torch, torchvision, timm\n",
            "  Attempting uninstall: torch\n",
            "    Found existing installation: torch 1.12.1+cu113\n",
            "    Uninstalling torch-1.12.1+cu113:\n",
            "      Successfully uninstalled torch-1.12.1+cu113\n",
            "  Attempting uninstall: torchvision\n",
            "    Found existing installation: torchvision 0.13.1+cu113\n",
            "    Uninstalling torchvision-0.13.1+cu113:\n",
            "      Successfully uninstalled torchvision-0.13.1+cu113\n",
            "\u001b[31mERROR: pip's dependency resolver does not currently take into account all the packages that are installed. This behaviour is the source of the following dependency conflicts.\n",
            "torchtext 0.13.1 requires torch==1.12.1, but you have torch 1.7.0 which is incompatible.\n",
            "torchaudio 0.12.1+cu113 requires torch==1.12.1, but you have torch 1.7.0 which is incompatible.\n",
            "fastai 2.7.9 requires torchvision>=0.8.2, but you have torchvision 0.8.1 which is incompatible.\u001b[0m\n",
            "Successfully installed dataclasses-0.6 timm-0.3.2 torch-1.7.0 torchvision-0.8.1\n"
          ]
        }
      ]
    },
    {
      "cell_type": "markdown",
      "source": [
        "### See main.py parameters for details "
      ],
      "metadata": {
        "id": "B_nkzJjwuaqe"
      }
    },
    {
      "cell_type": "code",
      "source": [
        "!python ./DEIT-Simple/main.py \\\n",
        "        --batch-size 32 \\\n",
        "        --model-ema \\\n",
        "        --clip-grad 10.0  \\\n",
        "        --train-mode  \\\n",
        "        --distillation-type 'soft'  \\\n",
        "        --output_dir ./output/  \\\n",
        "        --teacher-path https://dl.fbaipublicfiles.com/deit/regnety_160-a5fe301d.pth"
      ],
      "metadata": {
        "colab": {
          "base_uri": "https://localhost:8080/"
        },
        "id": "fBrL2C0UtDe5",
        "outputId": "6eebd739-b47e-4cf4-cbd6-07c28e3017d1"
      },
      "execution_count": null,
      "outputs": [
        {
          "output_type": "stream",
          "name": "stdout",
          "text": [
            "(Can) Not using distributed mode\n",
            "Namespace(ThreeAugment=False, aa='rand-m9-mstd0.5-inc1', attn_only=False, batch_size=32, bce_loss=False, clip_grad=10.0, color_jitter=0.3, cooldown_epochs=10, cutmix=0.0, cutmix_minmax=None, data_path='./datasets/CIFAR/', data_set='CIFAR', decay_epochs=30, decay_rate=0.1, device='cuda', dist_eval=False, dist_url='env://', distillation_alpha=0.5, distillation_tau=1.0, distillation_type='soft', distributed=False, drop=0.0, drop_path=0.1, epochs=1, eval=False, eval_ema_path=None, eval_path=None, finetune='', input_size=224, int_category='name', lr=0.0005, lr_noise=None, lr_noise_pct=0.67, lr_noise_std=1.0, min_lr=1e-05, mixup=0.0, mixup_mode='batch', mixup_prob=1.0, mixup_switch_prob=0.5, model='deit_base_distilled_patch16_224', model_ema=True, model_ema_decay=0.99996, model_ema_force_cpu=False, momentum=0.9, num_workers=4, opt='adamw', opt_betas=None, opt_eps=1e-08, output_dir='./output/', patience_epochs=10, pin_mem=True, recount=1, remode='pixel', repeated_aug=True, reprob=0.25, resplit=False, resume='', sched='cosine', seed=0, smoothing=0.1, src=False, start_epoch=0, teacher_model='regnety_160', teacher_path='https://dl.fbaipublicfiles.com/deit/regnety_160-a5fe301d.pth', train_interpolation='bicubic', train_mode=True, unscale_lr=False, warmup_epochs=5, warmup_lr=1e-06, weight_decay=0.05, world_size=1)\n",
            "Files already downloaded and verified\n",
            "Files already downloaded and verified\n",
            "Creating model: deit_base_distilled_patch16_224\n",
            "number of params: 85953992\n",
            "Creating teacher model: regnety_160\n",
            "Start training for 1 epochs\n",
            "Epoch: [0]  [   0/1562]  eta: 1:22:24  lr: 0.000001  loss: 2.3061 (2.3061)  time: 3.1656  data: 0.6676  max mem: 9848\n",
            "Epoch: [0]  [  10/1562]  eta: 0:21:21  lr: 0.000001  loss: 2.3377 (2.3522)  time: 0.8256  data: 0.0608  max mem: 9848\n",
            "Epoch: [0]  [  20/1562]  eta: 0:18:24  lr: 0.000001  loss: 2.3697 (2.3642)  time: 0.5935  data: 0.0001  max mem: 9848\n",
            "Epoch: [0]  [  30/1562]  eta: 0:17:19  lr: 0.000001  loss: 2.3605 (2.3636)  time: 0.5979  data: 0.0001  max mem: 9848\n",
            "Epoch: [0]  [  40/1562]  eta: 0:16:44  lr: 0.000001  loss: 2.3583 (2.3591)  time: 0.6017  data: 0.0001  max mem: 9848\n",
            "Epoch: [0]  [  50/1562]  eta: 0:16:22  lr: 0.000001  loss: 2.3312 (2.3527)  time: 0.6045  data: 0.0001  max mem: 9848\n",
            "Epoch: [0]  [  60/1562]  eta: 0:16:05  lr: 0.000001  loss: 2.3305 (2.3515)  time: 0.6076  data: 0.0001  max mem: 9848\n",
            "Epoch: [0]  [  70/1562]  eta: 0:15:53  lr: 0.000001  loss: 2.3339 (2.3492)  time: 0.6117  data: 0.0001  max mem: 9848\n",
            "Epoch: [0]  [  80/1562]  eta: 0:15:43  lr: 0.000001  loss: 2.3256 (2.3446)  time: 0.6162  data: 0.0001  max mem: 9848\n",
            "Exception ignored in: <function _MultiProcessingDataLoaderIter.__del__ at 0x7f4093f2c830>\n",
            "Traceback (most recent call last):\n",
            "  File \"/usr/local/lib/python3.7/dist-packages/torch/utils/data/dataloader.py\", line 1203, in __del__\n",
            "    self._shutdown_workers()\n",
            "  File \"/usr/local/lib/python3.7/dist-packages/torch/utils/data/dataloader.py\", line 1161, in _shutdown_workers\n",
            "    self._worker_result_queue.put((None, None))\n",
            "  File \"/usr/lib/python3.7/multiprocessing/queues.py\", line 87, in put\n",
            "    self._start_thread()\n",
            "  File \"/usr/lib/python3.7/multiprocessing/queues.py\", line 170, in _start_thread\n",
            "    self._thread.start()\n",
            "  File \"/usr/lib/python3.7/threading.py\", line 857, in start\n",
            "    self._started.wait()\n",
            "  File \"/usr/lib/python3.7/threading.py\", line 552, in wait\n",
            "    signaled = self._cond.wait(timeout)\n",
            "  File \"/usr/lib/python3.7/threading.py\", line 296, in wait\n",
            "    waiter.acquire()\n",
            "KeyboardInterrupt: \n",
            "Traceback (most recent call last):\n",
            "  File \"./DEIT-Simple/main.py\", line 647, in <module>\n",
            "    main(args)\n",
            "  File \"./DEIT-Simple/main.py\", line 584, in main\n",
            "    args=args,\n",
            "  File \"/content/DEIT-Simple/engine.py\", line 81, in train_one_epoch\n",
            "    parameters=model.parameters(), create_graph=is_second_order)\n",
            "  File \"/usr/local/lib/python3.7/dist-packages/timm/utils/cuda.py\", line 45, in __call__\n",
            "    torch.nn.utils.clip_grad_norm_(parameters, clip_grad)\n",
            "  File \"/usr/local/lib/python3.7/dist-packages/torch/nn/utils/clip_grad.py\", line 36, in clip_grad_norm_\n",
            "    total_norm = torch.norm(torch.stack([torch.norm(p.grad.detach(), norm_type).to(device) for p in parameters]), norm_type)\n",
            "  File \"/usr/local/lib/python3.7/dist-packages/torch/nn/utils/clip_grad.py\", line 36, in <listcomp>\n",
            "    total_norm = torch.norm(torch.stack([torch.norm(p.grad.detach(), norm_type).to(device) for p in parameters]), norm_type)\n",
            "  File \"/usr/local/lib/python3.7/dist-packages/torch/functional.py\", line 1293, in norm\n",
            "    return _VF.norm(input, p, dim=_dim, keepdim=keepdim)  # type: ignore\n",
            "KeyboardInterrupt\n"
          ]
        }
      ]
    }
  ]
}